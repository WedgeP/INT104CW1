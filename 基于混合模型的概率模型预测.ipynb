{
 "cells": [
  {
   "cell_type": "code",
   "execution_count": null,
   "id": "initial_id",
   "metadata": {
    "collapsed": true
   },
   "outputs": [],
   "source": [
    "# 导入所需库并读取训练文件\n",
    "import seaborn as sns\n",
    "import warnings\n",
    "import pandas as pd\n",
    "import matplotlib.pyplot as plt\n",
    "from sklearn.preprocessing import StandardScaler\n",
    "from sklearn.decomposition import PCA\n",
    "from sklearn.model_selection import train_test_split, GridSearchCV\n",
    "from sklearn.ensemble import RandomForestClassifier\n",
    "from sklearn.metrics import accuracy_score, classification_report, confusion_matrix\n",
    "from sklearn.pipeline import Pipeline\n",
    "import pandas as pd\n",
    "import matplotlib.pyplot as plt\n",
    "import seaborn as sns\n",
    "from scipy import stats\n",
    "from sklearn.mixture import GaussianMixture\n",
    "from sklearn.model_selection import train_test_split, StratifiedKFold\n",
    "from sklearn.naive_bayes import GaussianNB\n",
    "from sklearn.metrics import classification_report, confusion_matrix\n",
    "from sklearn.preprocessing import StandardScaler\n",
    "from sklearn.pipeline import Pipeline\n",
    "from sklearn.feature_selection import SelectKBest, f_classif\n",
    "import itertools\n",
    "import warnings\n",
    "# 读取数据\n",
    "df = pd.read_csv(\"./student_data.csv\")"
   ]
  },
  {
   "metadata": {},
   "cell_type": "markdown",
   "source": [
    "# 使用混合模型提高预测准确率\n",
    "## 贝叶斯混合模型\n",
    "该模型分类精度很高，但是需要数据集较大，且数据集中的每个类别的样本量要均匀分布。此数据集中C Programme的样本量较少，可能会影响模型的准确率。并且grade 3数量也很少，并且绝大多数以C programme为主。"
   ],
   "id": "85c23450f17c9ec0"
  },
  {
   "metadata": {},
   "cell_type": "markdown",
   "source": [
    "## knn分类模型\n",
    "该模型分类精度较差，但是对于特殊类别，比如说C Programme和grade 3的样本量较少的类别，knn模型的分类精度较高。我们将使用knn模型进行分类。我们将使用投票模型的方式为数据集中数量较少的特殊组创建pca+kmean模型进行分类。接下来我们将要训练knn模型。"
   ],
   "id": "6faab13bd34caba0"
  },
  {
   "metadata": {},
   "cell_type": "code",
   "outputs": [],
   "execution_count": null,
   "source": [
    "\n",
    "# 提取特征和目标变量\n",
    "X = df.drop(columns=[\"Programme\"])\n",
    "y = df[\"Programme\"]\n",
    "\n",
    "# 创建PCA + 分类器的管道\n",
    "pipeline = Pipeline([\n",
    "    ('scaler', StandardScaler()),\n",
    "    ('pca', PCA()),\n",
    "    ('classifier', RandomForestClassifier(random_state=42))\n",
    "])\n",
    "\n",
    "# 定义参数网格\n",
    "param_grid = {\n",
    "    'pca__n_components': [1, 2, 3, 4, 5, 6, 7],\n",
    "    'classifier__n_estimators': [100, 200, 300],\n",
    "    'classifier__max_depth': [None, 5, 10, 15]\n",
    "}\n",
    "\n",
    "# 使用网格搜索查找最佳参数\n",
    "grid_search = GridSearchCV(pipeline, param_grid, cv=5, scoring='accuracy')\n",
    "grid_search.fit(X, y)\n",
    "\n",
    "# 打印最佳参数和分数\n",
    "print(f\"最佳参数: {grid_search.best_params_}\")\n",
    "print(f\"最佳交叉验证分数: {grid_search.best_score_:.4f}\")\n",
    "\n",
    "# 使用最佳参数进行PCA\n",
    "best_components = grid_search.best_params_['pca__n_components']\n",
    "best_pipeline = grid_search.best_estimator_\n",
    "\n",
    "# 获取PCA结果用于可视化\n",
    "pca = best_pipeline.named_steps['pca']\n",
    "X_scaled = best_pipeline.named_steps['scaler'].transform(X)\n",
    "X_pca = pca.transform(X_scaled)\n"
   ],
   "id": "4b736841bdc3efee"
  }
 ],
 "metadata": {
  "kernelspec": {
   "display_name": "Python 3",
   "language": "python",
   "name": "python3"
  },
  "language_info": {
   "codemirror_mode": {
    "name": "ipython",
    "version": 2
   },
   "file_extension": ".py",
   "mimetype": "text/x-python",
   "name": "python",
   "nbconvert_exporter": "python",
   "pygments_lexer": "ipython2",
   "version": "2.7.6"
  }
 },
 "nbformat": 4,
 "nbformat_minor": 5
}
