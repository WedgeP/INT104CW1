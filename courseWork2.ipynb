{
 "cells": [
  {
   "metadata": {},
   "cell_type": "markdown",
   "source": [
    "# Task 1: Response to Data analysis and feature engineering\n",
    "使用pandas导入训练数据集，并分析特征和标签的分布情况。"
   ],
   "id": "204c0754e749b3d5"
  },
  {
   "cell_type": "code",
   "id": "initial_id",
   "metadata": {
    "collapsed": true,
    "ExecuteTime": {
     "end_time": "2025-04-24T04:47:53.873472Z",
     "start_time": "2025-04-24T04:47:53.820471Z"
    }
   },
   "source": [
    "import platform\n",
    "# 导入必要的库\n",
    "import pandas as pd\n",
    "import numpy as np\n",
    "import matplotlib.pyplot as plt\n",
    "from sklearn.preprocessing import StandardScaler\n",
    "from sklearn.decomposition import PCA\n",
    "from sklearn.ensemble import RandomForestClassifier\n",
    "from sklearn.metrics import classification_report, confusion_matrix, accuracy_score\n",
    "from sklearn.model_selection import GridSearchCV, StratifiedKFold\n",
    "from sklearn.pipeline import Pipeline\n",
    "\n",
    "# 设置随机种子和中文显示\n",
    "np.random.seed(42)\n",
    "# 设置中文显示\n",
    "system = platform.system()\n",
    "\n",
    "if system == 'Darwin':  # Mac系统\n",
    "    plt.rcParams['font.sans-serif'] = ['Arial Unicode MS']\n",
    "elif system == 'Windows':  # Windows系统\n",
    "    plt.rcParams['font.sans-serif'] = ['SimHei']  # 黑体\n",
    "elif system == 'Linux':  # Linux系统\n",
    "    # Linux系统可能需要安装中文字体，例如 Noto Sans CJK SC\n",
    "    plt.rcParams['font.sans-serif'] = ['Noto Sans CJK SC']\n",
    "else:\n",
    "    # 默认字体（如果系统未识别）\n",
    "    plt.rcParams['font.sans-serif'] = ['SimHei']\n",
    "\n",
    "# 读取数据\n",
    "df = pd.read_csv(\"./student_data.csv\")\n",
    "\n",
    "# 初始化模型存储结构\n",
    "# 在代码开头初始化完整的字典结构\n",
    "grade_models = {\n",
    "    'pca_model': {},\n",
    "    'bayes_models': {},\n",
    "    'random_forest_models': {}\n",
    "}\n",
    "\n",
    "# 系别映射（如果需要）\n",
    "mapping = {1: 'A', 2: 'B', 3: 'C', 4: 'D'}\n",
    "if df['Programme'].dtype == 'int64' or df['Programme'].iloc[0] in [1, 2, 3, 4]:\n",
    "    df['Programme'] = df['Programme'].map(mapping)\n"
   ],
   "outputs": [
    {
     "ename": "ModuleNotFoundError",
     "evalue": "No module named 'pandas'",
     "output_type": "error",
     "traceback": [
      "\u001B[31m---------------------------------------------------------------------------\u001B[39m",
      "\u001B[31mModuleNotFoundError\u001B[39m                       Traceback (most recent call last)",
      "\u001B[36mCell\u001B[39m\u001B[36m \u001B[39m\u001B[32mIn[1]\u001B[39m\u001B[32m, line 3\u001B[39m\n\u001B[32m      1\u001B[39m \u001B[38;5;28;01mimport\u001B[39;00m\u001B[38;5;250m \u001B[39m\u001B[34;01mplatform\u001B[39;00m\n\u001B[32m      2\u001B[39m \u001B[38;5;66;03m# 导入必要的库\u001B[39;00m\n\u001B[32m----> \u001B[39m\u001B[32m3\u001B[39m \u001B[38;5;28;01mimport\u001B[39;00m\u001B[38;5;250m \u001B[39m\u001B[34;01mpandas\u001B[39;00m\u001B[38;5;250m \u001B[39m\u001B[38;5;28;01mas\u001B[39;00m\u001B[38;5;250m \u001B[39m\u001B[34;01mpd\u001B[39;00m\n\u001B[32m      4\u001B[39m \u001B[38;5;28;01mimport\u001B[39;00m\u001B[38;5;250m \u001B[39m\u001B[34;01mnumpy\u001B[39;00m\u001B[38;5;250m \u001B[39m\u001B[38;5;28;01mas\u001B[39;00m\u001B[38;5;250m \u001B[39m\u001B[34;01mnp\u001B[39;00m\n\u001B[32m      5\u001B[39m \u001B[38;5;28;01mimport\u001B[39;00m\u001B[38;5;250m \u001B[39m\u001B[34;01mmatplotlib\u001B[39;00m\u001B[34;01m.\u001B[39;00m\u001B[34;01mpyplot\u001B[39;00m\u001B[38;5;250m \u001B[39m\u001B[38;5;28;01mas\u001B[39;00m\u001B[38;5;250m \u001B[39m\u001B[34;01mplt\u001B[39;00m\n",
      "\u001B[31mModuleNotFoundError\u001B[39m: No module named 'pandas'"
     ]
    }
   ],
   "execution_count": 1
  }
 ],
 "metadata": {
  "kernelspec": {
   "display_name": "Python 3",
   "language": "python",
   "name": "python3"
  },
  "language_info": {
   "codemirror_mode": {
    "name": "ipython",
    "version": 2
   },
   "file_extension": ".py",
   "mimetype": "text/x-python",
   "name": "python",
   "nbconvert_exporter": "python",
   "pygments_lexer": "ipython2",
   "version": "2.7.6"
  }
 },
 "nbformat": 4,
 "nbformat_minor": 5
}
